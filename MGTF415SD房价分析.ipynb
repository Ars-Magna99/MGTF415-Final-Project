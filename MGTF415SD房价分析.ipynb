{
 "cells": [
  {
   "cell_type": "markdown",
   "metadata": {},
   "source": [
    "## Airbnb SD 房价分析"
   ]
  },
  {
   "cell_type": "code",
   "execution_count": 103,
   "metadata": {},
   "outputs": [],
   "source": [
    "import numpy as np\n",
    "import pandas as pd \n",
    "import seaborn as sns\n",
    "import matplotlib.pyplot as plt\n",
    "\n",
    "from datetime import datetime\n",
    "\n",
    "#machine learning\n",
    "import sklearn\n",
    "from sklearn import preprocessing\n",
    "from sklearn import metrics\n",
    "from sklearn.metrics import r2_score, mean_absolute_error\n",
    "from sklearn.preprocessing import LabelEncoder,OneHotEncoder\n",
    "from sklearn.model_selection import train_test_split\n",
    "from sklearn.linear_model import LinearRegression,LogisticRegression\n",
    "from sklearn.linear_model import LinearRegression\n",
    "from sklearn.metrics import mean_squared_error,r2_score"
   ]
  },
  {
   "cell_type": "code",
   "execution_count": 142,
   "metadata": {},
   "outputs": [
    {
     "data": {
      "text/plain": [
       "(13236, 16)"
      ]
     },
     "execution_count": 142,
     "metadata": {},
     "output_type": "execute_result"
    }
   ],
   "source": [
    "filepath = '/Users/ziyangwang/Desktop/415FinalProject/AB_SD_2019.csv' \n",
    "df = pd.read_csv(filepath)\n",
    "df.shape"
   ]
  },
  {
   "cell_type": "code",
   "execution_count": 143,
   "metadata": {},
   "outputs": [],
   "source": [
    "df = df[(df['neighbourhood']=='Mission Bay') \n",
    "         |(df['neighbourhood'] =='Pacific Beach') \n",
    "         | (df['neighbourhood'] == 'North Park')\n",
    "         | (df['neighbourhood'] == 'La Jolla')\n",
    "         | (df['neighbourhood'] =='East Village')\n",
    "        |(df['neighbourhood'] =='Ocean Beach')\n",
    "        |(df['neighbourhood'] == 'Midtown')\n",
    "        |(df['neighbourhood'] =='Ocean Beach')\n",
    "        |(df['neighbourhood'] =='Balboa Park')\n",
    "        |(df['neighbourhood'] =='Loma Portal')\n",
    "        |(df['neighbourhood'] =='University City')\n",
    "        |(df['neighbourhood'] =='Gaslamp Quarter')\n",
    "        |(df['neighbourhood'] == 'Park West')                     \n",
    "        |(df['neighbourhood'] == 'Little Italy')                   \n",
    "        |(df['neighbourhood'] =='West University Heights')\n",
    "        |(df['neighbourhood'] =='Bay Park')                   \n",
    "        |(df['neighbourhood'] =='Grant Hill')]"
   ]
  },
  {
   "cell_type": "code",
   "execution_count": 151,
   "metadata": {},
   "outputs": [
    {
     "data": {
      "text/plain": [
       "(7962, 13)"
      ]
     },
     "execution_count": 151,
     "metadata": {},
     "output_type": "execute_result"
    }
   ],
   "source": [
    "df.shape"
   ]
  },
  {
   "cell_type": "markdown",
   "metadata": {},
   "source": [
    "## 替换错误信息"
   ]
  },
  {
   "cell_type": "code",
   "execution_count": 146,
   "metadata": {},
   "outputs": [],
   "source": [
    "df.neighbourhood.replace('North Hills', 'North Park', inplace=True)"
   ]
  },
  {
   "cell_type": "markdown",
   "metadata": {},
   "source": [
    "房间名称、房主名的缺失相对较少，考虑房间和房东的名字对数据建模的贡献不大，所以将这两列删除掉。"
   ]
  },
  {
   "cell_type": "code",
   "execution_count": 147,
   "metadata": {},
   "outputs": [],
   "source": [
    "df.drop(['host_name','name','neighbourhood_group'], axis=1, inplace=True)"
   ]
  },
  {
   "cell_type": "markdown",
   "metadata": {},
   "source": [
    "每月评论数量、最新评论时间的缺失值相对较多，占到整个样本数量的20%，删除缺失值所在的样本会损失很多数据。\n",
    "\n",
    "且从理论上来讲，评论数量的多少可能和房价之间存在着不可描述的关系，所以删除特征列也不妥。那就只能填补缺失值了。\n",
    "\n",
    "再进一步分析，如果某些房间没有评论，那么自然最新评论时间和每月评论数量都会为0。所以我们不妨看一下，这个缺失是不是由于0评论导致的"
   ]
  },
  {
   "cell_type": "code",
   "execution_count": 148,
   "metadata": {},
   "outputs": [
    {
     "data": {
      "text/plain": [
       "(0, 13)"
      ]
     },
     "execution_count": 148,
     "metadata": {},
     "output_type": "execute_result"
    }
   ],
   "source": [
    "df[df['reviews_per_month']==0.0].shape"
   ]
  },
  {
   "cell_type": "markdown",
   "metadata": {},
   "source": [
    "找到最早的评论时间"
   ]
  },
  {
   "cell_type": "code",
   "execution_count": 149,
   "metadata": {},
   "outputs": [
    {
     "name": "stdout",
     "output_type": "stream",
     "text": [
      "2012-08-14 00:00:00\n"
     ]
    }
   ],
   "source": [
    "df['last_review'] = pd.to_datetime(df['last_review'], format='%Y/%m/%d')\n",
    "print(df['last_review'].min())"
   ]
  },
  {
   "cell_type": "markdown",
   "metadata": {},
   "source": [
    "用0填补reviews_per_month 并用整个数据集最早的评论时间填补last_review."
   ]
  },
  {
   "cell_type": "code",
   "execution_count": 152,
   "metadata": {},
   "outputs": [],
   "source": [
    "df['reviews_per_month'] = df['reviews_per_month'].fillna(0)\n",
    "earliest = (df['last_review'].min())\n",
    "df['last_review'] = df['last_review'].fillna(earliest)"
   ]
  },
  {
   "cell_type": "markdown",
   "metadata": {},
   "source": [
    "为了方便分析建模，将last_review转为数值型"
   ]
  },
  {
   "cell_type": "code",
   "execution_count": 153,
   "metadata": {},
   "outputs": [],
   "source": [
    "df['last_review'] = df['last_review'].apply(lambda x:x.toordinal() - earliest.toordinal())"
   ]
  },
  {
   "cell_type": "code",
   "execution_count": 154,
   "metadata": {},
   "outputs": [
    {
     "data": {
      "text/html": [
       "<div>\n",
       "<style scoped>\n",
       "    .dataframe tbody tr th:only-of-type {\n",
       "        vertical-align: middle;\n",
       "    }\n",
       "\n",
       "    .dataframe tbody tr th {\n",
       "        vertical-align: top;\n",
       "    }\n",
       "\n",
       "    .dataframe thead th {\n",
       "        text-align: right;\n",
       "    }\n",
       "</style>\n",
       "<table border=\"1\" class=\"dataframe\">\n",
       "  <thead>\n",
       "    <tr style=\"text-align: right;\">\n",
       "      <th></th>\n",
       "      <th>Total</th>\n",
       "      <th>Percent</th>\n",
       "    </tr>\n",
       "  </thead>\n",
       "  <tbody>\n",
       "    <tr>\n",
       "      <th>availability_365</th>\n",
       "      <td>0</td>\n",
       "      <td>0.0</td>\n",
       "    </tr>\n",
       "    <tr>\n",
       "      <th>calculated_host_listings_count</th>\n",
       "      <td>0</td>\n",
       "      <td>0.0</td>\n",
       "    </tr>\n",
       "    <tr>\n",
       "      <th>reviews_per_month</th>\n",
       "      <td>0</td>\n",
       "      <td>0.0</td>\n",
       "    </tr>\n",
       "    <tr>\n",
       "      <th>last_review</th>\n",
       "      <td>0</td>\n",
       "      <td>0.0</td>\n",
       "    </tr>\n",
       "    <tr>\n",
       "      <th>number_of_reviews</th>\n",
       "      <td>0</td>\n",
       "      <td>0.0</td>\n",
       "    </tr>\n",
       "    <tr>\n",
       "      <th>minimum_nights</th>\n",
       "      <td>0</td>\n",
       "      <td>0.0</td>\n",
       "    </tr>\n",
       "    <tr>\n",
       "      <th>price</th>\n",
       "      <td>0</td>\n",
       "      <td>0.0</td>\n",
       "    </tr>\n",
       "    <tr>\n",
       "      <th>room_type</th>\n",
       "      <td>0</td>\n",
       "      <td>0.0</td>\n",
       "    </tr>\n",
       "    <tr>\n",
       "      <th>longitude</th>\n",
       "      <td>0</td>\n",
       "      <td>0.0</td>\n",
       "    </tr>\n",
       "    <tr>\n",
       "      <th>latitude</th>\n",
       "      <td>0</td>\n",
       "      <td>0.0</td>\n",
       "    </tr>\n",
       "    <tr>\n",
       "      <th>neighbourhood</th>\n",
       "      <td>0</td>\n",
       "      <td>0.0</td>\n",
       "    </tr>\n",
       "    <tr>\n",
       "      <th>host_id</th>\n",
       "      <td>0</td>\n",
       "      <td>0.0</td>\n",
       "    </tr>\n",
       "    <tr>\n",
       "      <th>id</th>\n",
       "      <td>0</td>\n",
       "      <td>0.0</td>\n",
       "    </tr>\n",
       "  </tbody>\n",
       "</table>\n",
       "</div>"
      ],
      "text/plain": [
       "                                Total  Percent\n",
       "availability_365                    0      0.0\n",
       "calculated_host_listings_count      0      0.0\n",
       "reviews_per_month                   0      0.0\n",
       "last_review                         0      0.0\n",
       "number_of_reviews                   0      0.0\n",
       "minimum_nights                      0      0.0\n",
       "price                               0      0.0\n",
       "room_type                           0      0.0\n",
       "longitude                           0      0.0\n",
       "latitude                            0      0.0\n",
       "neighbourhood                       0      0.0\n",
       "host_id                             0      0.0\n",
       "id                                  0      0.0"
      ]
     },
     "execution_count": 154,
     "metadata": {},
     "output_type": "execute_result"
    }
   ],
   "source": [
    "total = df.isnull().sum().sort_values(ascending=False) \n",
    "percent=(df.isnull().sum()/df.isnull().count()).sort_values(ascending=False)\n",
    "missing_data = pd.concat([total,percent], axis=1, keys=['Total', 'Percent']).sort_values('Total', ascending=False)\n",
    "missing_data"
   ]
  },
  {
   "cell_type": "code",
   "execution_count": 155,
   "metadata": {},
   "outputs": [
    {
     "data": {
      "text/html": [
       "<div>\n",
       "<style scoped>\n",
       "    .dataframe tbody tr th:only-of-type {\n",
       "        vertical-align: middle;\n",
       "    }\n",
       "\n",
       "    .dataframe tbody tr th {\n",
       "        vertical-align: top;\n",
       "    }\n",
       "\n",
       "    .dataframe thead th {\n",
       "        text-align: right;\n",
       "    }\n",
       "</style>\n",
       "<table border=\"1\" class=\"dataframe\">\n",
       "  <thead>\n",
       "    <tr style=\"text-align: right;\">\n",
       "      <th></th>\n",
       "      <th>id</th>\n",
       "      <th>host_id</th>\n",
       "      <th>neighbourhood</th>\n",
       "      <th>latitude</th>\n",
       "      <th>longitude</th>\n",
       "      <th>room_type</th>\n",
       "      <th>price</th>\n",
       "      <th>minimum_nights</th>\n",
       "      <th>number_of_reviews</th>\n",
       "      <th>last_review</th>\n",
       "      <th>reviews_per_month</th>\n",
       "      <th>calculated_host_listings_count</th>\n",
       "      <th>availability_365</th>\n",
       "    </tr>\n",
       "  </thead>\n",
       "  <tbody>\n",
       "    <tr>\n",
       "      <th>1</th>\n",
       "      <td>5570</td>\n",
       "      <td>8435</td>\n",
       "      <td>Mission Bay</td>\n",
       "      <td>32.78430</td>\n",
       "      <td>-117.25258</td>\n",
       "      <td>Entire home/apt</td>\n",
       "      <td>2050</td>\n",
       "      <td>3</td>\n",
       "      <td>0</td>\n",
       "      <td>0</td>\n",
       "      <td>0.00</td>\n",
       "      <td>2</td>\n",
       "      <td>202</td>\n",
       "    </tr>\n",
       "    <tr>\n",
       "      <th>4</th>\n",
       "      <td>52286</td>\n",
       "      <td>215810</td>\n",
       "      <td>Mission Bay</td>\n",
       "      <td>32.77784</td>\n",
       "      <td>-117.25355</td>\n",
       "      <td>Entire home/apt</td>\n",
       "      <td>550</td>\n",
       "      <td>7</td>\n",
       "      <td>0</td>\n",
       "      <td>0</td>\n",
       "      <td>0.00</td>\n",
       "      <td>1</td>\n",
       "      <td>89</td>\n",
       "    </tr>\n",
       "    <tr>\n",
       "      <th>5</th>\n",
       "      <td>54001</td>\n",
       "      <td>252692</td>\n",
       "      <td>La Jolla</td>\n",
       "      <td>32.81190</td>\n",
       "      <td>-117.26952</td>\n",
       "      <td>Private room</td>\n",
       "      <td>110</td>\n",
       "      <td>2</td>\n",
       "      <td>203</td>\n",
       "      <td>2575</td>\n",
       "      <td>1.91</td>\n",
       "      <td>5</td>\n",
       "      <td>329</td>\n",
       "    </tr>\n",
       "    <tr>\n",
       "      <th>6</th>\n",
       "      <td>62274</td>\n",
       "      <td>302986</td>\n",
       "      <td>Pacific Beach</td>\n",
       "      <td>32.80734</td>\n",
       "      <td>-117.24243</td>\n",
       "      <td>Entire home/apt</td>\n",
       "      <td>68</td>\n",
       "      <td>2</td>\n",
       "      <td>525</td>\n",
       "      <td>2579</td>\n",
       "      <td>4.90</td>\n",
       "      <td>2</td>\n",
       "      <td>242</td>\n",
       "    </tr>\n",
       "    <tr>\n",
       "      <th>7</th>\n",
       "      <td>62949</td>\n",
       "      <td>21532</td>\n",
       "      <td>Pacific Beach</td>\n",
       "      <td>32.80961</td>\n",
       "      <td>-117.23056</td>\n",
       "      <td>Entire home/apt</td>\n",
       "      <td>75</td>\n",
       "      <td>1</td>\n",
       "      <td>596</td>\n",
       "      <td>2592</td>\n",
       "      <td>6.91</td>\n",
       "      <td>2</td>\n",
       "      <td>128</td>\n",
       "    </tr>\n",
       "    <tr>\n",
       "      <th>9</th>\n",
       "      <td>69385</td>\n",
       "      <td>347408</td>\n",
       "      <td>Mission Bay</td>\n",
       "      <td>32.78646</td>\n",
       "      <td>-117.25434</td>\n",
       "      <td>Entire home/apt</td>\n",
       "      <td>479</td>\n",
       "      <td>3</td>\n",
       "      <td>184</td>\n",
       "      <td>2594</td>\n",
       "      <td>1.76</td>\n",
       "      <td>1</td>\n",
       "      <td>327</td>\n",
       "    </tr>\n",
       "  </tbody>\n",
       "</table>\n",
       "</div>"
      ],
      "text/plain": [
       "      id  host_id  neighbourhood  latitude  longitude        room_type  price  \\\n",
       "1   5570     8435    Mission Bay  32.78430 -117.25258  Entire home/apt   2050   \n",
       "4  52286   215810    Mission Bay  32.77784 -117.25355  Entire home/apt    550   \n",
       "5  54001   252692       La Jolla  32.81190 -117.26952     Private room    110   \n",
       "6  62274   302986  Pacific Beach  32.80734 -117.24243  Entire home/apt     68   \n",
       "7  62949    21532  Pacific Beach  32.80961 -117.23056  Entire home/apt     75   \n",
       "9  69385   347408    Mission Bay  32.78646 -117.25434  Entire home/apt    479   \n",
       "\n",
       "   minimum_nights  number_of_reviews  last_review  reviews_per_month  \\\n",
       "1               3                  0            0               0.00   \n",
       "4               7                  0            0               0.00   \n",
       "5               2                203         2575               1.91   \n",
       "6               2                525         2579               4.90   \n",
       "7               1                596         2592               6.91   \n",
       "9               3                184         2594               1.76   \n",
       "\n",
       "   calculated_host_listings_count  availability_365  \n",
       "1                               2               202  \n",
       "4                               1                89  \n",
       "5                               5               329  \n",
       "6                               2               242  \n",
       "7                               2               128  \n",
       "9                               1               327  "
      ]
     },
     "execution_count": 155,
     "metadata": {},
     "output_type": "execute_result"
    }
   ],
   "source": [
    "df.head(6)"
   ]
  },
  {
   "cell_type": "markdown",
   "metadata": {},
   "source": [
    "# 建模数据的准备"
   ]
  },
  {
   "cell_type": "markdown",
   "metadata": {},
   "source": [
    "## 哑变量的处理"
   ]
  },
  {
   "cell_type": "markdown",
   "metadata": {},
   "source": [
    "使用pandas的get_dummies模块可以快速对所有的分类变量哑变量化。"
   ]
  },
  {
   "cell_type": "code",
   "execution_count": 156,
   "metadata": {},
   "outputs": [
    {
     "data": {
      "text/plain": [
       "Index(['neighbourhood', 'room_type'], dtype='object')"
      ]
     },
     "execution_count": 156,
     "metadata": {},
     "output_type": "execute_result"
    }
   ],
   "source": [
    "object_features = df.select_dtypes(include=['object'])\n",
    "object_features.columns"
   ]
  },
  {
   "cell_type": "markdown",
   "metadata": {},
   "source": [
    "非数值化的特征主要有：neighbourhood，room_type。"
   ]
  },
  {
   "cell_type": "code",
   "execution_count": 157,
   "metadata": {},
   "outputs": [
    {
     "data": {
      "text/html": [
       "<div>\n",
       "<style scoped>\n",
       "    .dataframe tbody tr th:only-of-type {\n",
       "        vertical-align: middle;\n",
       "    }\n",
       "\n",
       "    .dataframe tbody tr th {\n",
       "        vertical-align: top;\n",
       "    }\n",
       "\n",
       "    .dataframe thead th {\n",
       "        text-align: right;\n",
       "    }\n",
       "</style>\n",
       "<table border=\"1\" class=\"dataframe\">\n",
       "  <thead>\n",
       "    <tr style=\"text-align: right;\">\n",
       "      <th></th>\n",
       "      <th>neighbourhood_Balboa Park</th>\n",
       "      <th>neighbourhood_Bay Park</th>\n",
       "      <th>neighbourhood_East Village</th>\n",
       "      <th>neighbourhood_Gaslamp Quarter</th>\n",
       "      <th>neighbourhood_Grant Hill</th>\n",
       "      <th>neighbourhood_La Jolla</th>\n",
       "      <th>neighbourhood_Little Italy</th>\n",
       "      <th>neighbourhood_Loma Portal</th>\n",
       "      <th>neighbourhood_Midtown</th>\n",
       "      <th>neighbourhood_Mission Bay</th>\n",
       "      <th>neighbourhood_Ocean Beach</th>\n",
       "      <th>neighbourhood_Pacific Beach</th>\n",
       "      <th>neighbourhood_Park West</th>\n",
       "      <th>neighbourhood_University City</th>\n",
       "      <th>neighbourhood_West University Heights</th>\n",
       "      <th>room_type_Entire home/apt</th>\n",
       "      <th>room_type_Hotel room</th>\n",
       "      <th>room_type_Private room</th>\n",
       "      <th>room_type_Shared room</th>\n",
       "    </tr>\n",
       "  </thead>\n",
       "  <tbody>\n",
       "    <tr>\n",
       "      <th>1</th>\n",
       "      <td>0</td>\n",
       "      <td>0</td>\n",
       "      <td>0</td>\n",
       "      <td>0</td>\n",
       "      <td>0</td>\n",
       "      <td>0</td>\n",
       "      <td>0</td>\n",
       "      <td>0</td>\n",
       "      <td>0</td>\n",
       "      <td>1</td>\n",
       "      <td>0</td>\n",
       "      <td>0</td>\n",
       "      <td>0</td>\n",
       "      <td>0</td>\n",
       "      <td>0</td>\n",
       "      <td>1</td>\n",
       "      <td>0</td>\n",
       "      <td>0</td>\n",
       "      <td>0</td>\n",
       "    </tr>\n",
       "    <tr>\n",
       "      <th>4</th>\n",
       "      <td>0</td>\n",
       "      <td>0</td>\n",
       "      <td>0</td>\n",
       "      <td>0</td>\n",
       "      <td>0</td>\n",
       "      <td>0</td>\n",
       "      <td>0</td>\n",
       "      <td>0</td>\n",
       "      <td>0</td>\n",
       "      <td>1</td>\n",
       "      <td>0</td>\n",
       "      <td>0</td>\n",
       "      <td>0</td>\n",
       "      <td>0</td>\n",
       "      <td>0</td>\n",
       "      <td>1</td>\n",
       "      <td>0</td>\n",
       "      <td>0</td>\n",
       "      <td>0</td>\n",
       "    </tr>\n",
       "    <tr>\n",
       "      <th>5</th>\n",
       "      <td>0</td>\n",
       "      <td>0</td>\n",
       "      <td>0</td>\n",
       "      <td>0</td>\n",
       "      <td>0</td>\n",
       "      <td>1</td>\n",
       "      <td>0</td>\n",
       "      <td>0</td>\n",
       "      <td>0</td>\n",
       "      <td>0</td>\n",
       "      <td>0</td>\n",
       "      <td>0</td>\n",
       "      <td>0</td>\n",
       "      <td>0</td>\n",
       "      <td>0</td>\n",
       "      <td>0</td>\n",
       "      <td>0</td>\n",
       "      <td>1</td>\n",
       "      <td>0</td>\n",
       "    </tr>\n",
       "    <tr>\n",
       "      <th>6</th>\n",
       "      <td>0</td>\n",
       "      <td>0</td>\n",
       "      <td>0</td>\n",
       "      <td>0</td>\n",
       "      <td>0</td>\n",
       "      <td>0</td>\n",
       "      <td>0</td>\n",
       "      <td>0</td>\n",
       "      <td>0</td>\n",
       "      <td>0</td>\n",
       "      <td>0</td>\n",
       "      <td>1</td>\n",
       "      <td>0</td>\n",
       "      <td>0</td>\n",
       "      <td>0</td>\n",
       "      <td>1</td>\n",
       "      <td>0</td>\n",
       "      <td>0</td>\n",
       "      <td>0</td>\n",
       "    </tr>\n",
       "    <tr>\n",
       "      <th>7</th>\n",
       "      <td>0</td>\n",
       "      <td>0</td>\n",
       "      <td>0</td>\n",
       "      <td>0</td>\n",
       "      <td>0</td>\n",
       "      <td>0</td>\n",
       "      <td>0</td>\n",
       "      <td>0</td>\n",
       "      <td>0</td>\n",
       "      <td>0</td>\n",
       "      <td>0</td>\n",
       "      <td>1</td>\n",
       "      <td>0</td>\n",
       "      <td>0</td>\n",
       "      <td>0</td>\n",
       "      <td>1</td>\n",
       "      <td>0</td>\n",
       "      <td>0</td>\n",
       "      <td>0</td>\n",
       "    </tr>\n",
       "  </tbody>\n",
       "</table>\n",
       "</div>"
      ],
      "text/plain": [
       "   neighbourhood_Balboa Park  neighbourhood_Bay Park  \\\n",
       "1                          0                       0   \n",
       "4                          0                       0   \n",
       "5                          0                       0   \n",
       "6                          0                       0   \n",
       "7                          0                       0   \n",
       "\n",
       "   neighbourhood_East Village  neighbourhood_Gaslamp Quarter  \\\n",
       "1                           0                              0   \n",
       "4                           0                              0   \n",
       "5                           0                              0   \n",
       "6                           0                              0   \n",
       "7                           0                              0   \n",
       "\n",
       "   neighbourhood_Grant Hill  neighbourhood_La Jolla  \\\n",
       "1                         0                       0   \n",
       "4                         0                       0   \n",
       "5                         0                       1   \n",
       "6                         0                       0   \n",
       "7                         0                       0   \n",
       "\n",
       "   neighbourhood_Little Italy  neighbourhood_Loma Portal  \\\n",
       "1                           0                          0   \n",
       "4                           0                          0   \n",
       "5                           0                          0   \n",
       "6                           0                          0   \n",
       "7                           0                          0   \n",
       "\n",
       "   neighbourhood_Midtown  neighbourhood_Mission Bay  \\\n",
       "1                      0                          1   \n",
       "4                      0                          1   \n",
       "5                      0                          0   \n",
       "6                      0                          0   \n",
       "7                      0                          0   \n",
       "\n",
       "   neighbourhood_Ocean Beach  neighbourhood_Pacific Beach  \\\n",
       "1                          0                            0   \n",
       "4                          0                            0   \n",
       "5                          0                            0   \n",
       "6                          0                            1   \n",
       "7                          0                            1   \n",
       "\n",
       "   neighbourhood_Park West  neighbourhood_University City  \\\n",
       "1                        0                              0   \n",
       "4                        0                              0   \n",
       "5                        0                              0   \n",
       "6                        0                              0   \n",
       "7                        0                              0   \n",
       "\n",
       "   neighbourhood_West University Heights  room_type_Entire home/apt  \\\n",
       "1                                      0                          1   \n",
       "4                                      0                          1   \n",
       "5                                      0                          0   \n",
       "6                                      0                          1   \n",
       "7                                      0                          1   \n",
       "\n",
       "   room_type_Hotel room  room_type_Private room  room_type_Shared room  \n",
       "1                     0                       0                      0  \n",
       "4                     0                       0                      0  \n",
       "5                     0                       1                      0  \n",
       "6                     0                       0                      0  \n",
       "7                     0                       0                      0  "
      ]
     },
     "execution_count": 157,
     "metadata": {},
     "output_type": "execute_result"
    }
   ],
   "source": [
    "object_features_oh=pd.get_dummies(object_features)\n",
    "object_features_oh.head()"
   ]
  },
  {
   "cell_type": "markdown",
   "metadata": {},
   "source": [
    "## 数据集准备"
   ]
  },
  {
   "cell_type": "code",
   "execution_count": 158,
   "metadata": {},
   "outputs": [
    {
     "name": "stderr",
     "output_type": "stream",
     "text": [
      "/Users/ziyangwang/anaconda3/lib/python3.6/site-packages/pandas/core/frame.py:4117: SettingWithCopyWarning: \n",
      "A value is trying to be set on a copy of a slice from a DataFrame\n",
      "\n",
      "See the caveats in the documentation: http://pandas.pydata.org/pandas-docs/stable/user_guide/indexing.html#returning-a-view-versus-a-copy\n",
      "  errors=errors,\n"
     ]
    },
    {
     "data": {
      "text/plain": [
       "(7962, 30)"
      ]
     },
     "execution_count": 158,
     "metadata": {},
     "output_type": "execute_result"
    }
   ],
   "source": [
    "#首先提取出所有的数值型数据\n",
    "num_features = df.select_dtypes(exclude=['object'])\n",
    "#将房价单独提出\n",
    "y = num_features.loc[:,'price']\n",
    "num_features.drop(columns=['price'],axis=1,inplace=True)\n",
    "#拼接成新的数据集\n",
    "new_data = pd.concat([num_features,object_features_oh,y],axis=1)\n",
    "#获取columns列表\n",
    "new_data.columns.tolist()\n",
    "new_data.shape"
   ]
  },
  {
   "cell_type": "markdown",
   "metadata": {},
   "source": [
    "## 存储new_data"
   ]
  },
  {
   "cell_type": "code",
   "execution_count": 159,
   "metadata": {},
   "outputs": [],
   "source": [
    "new_data.to_csv('/Users/ziyangwang/Desktop/415FinalProject/Processed_AB_NYC2019.csv')"
   ]
  },
  {
   "cell_type": "markdown",
   "metadata": {},
   "source": [
    "## 数值的标准化 "
   ]
  },
  {
   "cell_type": "code",
   "execution_count": 169,
   "metadata": {},
   "outputs": [
    {
     "data": {
      "text/html": [
       "<div>\n",
       "<style scoped>\n",
       "    .dataframe tbody tr th:only-of-type {\n",
       "        vertical-align: middle;\n",
       "    }\n",
       "\n",
       "    .dataframe tbody tr th {\n",
       "        vertical-align: top;\n",
       "    }\n",
       "\n",
       "    .dataframe thead th {\n",
       "        text-align: right;\n",
       "    }\n",
       "</style>\n",
       "<table border=\"1\" class=\"dataframe\">\n",
       "  <thead>\n",
       "    <tr style=\"text-align: right;\">\n",
       "      <th></th>\n",
       "      <th>id</th>\n",
       "      <th>host_id</th>\n",
       "      <th>latitude</th>\n",
       "      <th>longitude</th>\n",
       "      <th>minimum_nights</th>\n",
       "      <th>number_of_reviews</th>\n",
       "      <th>last_review</th>\n",
       "      <th>reviews_per_month</th>\n",
       "      <th>calculated_host_listings_count</th>\n",
       "      <th>availability_365</th>\n",
       "      <th>...</th>\n",
       "      <th>neighbourhood_Mission Bay</th>\n",
       "      <th>neighbourhood_Ocean Beach</th>\n",
       "      <th>neighbourhood_Pacific Beach</th>\n",
       "      <th>neighbourhood_Park West</th>\n",
       "      <th>neighbourhood_University City</th>\n",
       "      <th>neighbourhood_West University Heights</th>\n",
       "      <th>room_type_Entire home/apt</th>\n",
       "      <th>room_type_Hotel room</th>\n",
       "      <th>room_type_Private room</th>\n",
       "      <th>room_type_Shared room</th>\n",
       "    </tr>\n",
       "  </thead>\n",
       "  <tbody>\n",
       "    <tr>\n",
       "      <th>0</th>\n",
       "      <td>-1.234195</td>\n",
       "      <td>-0.432766</td>\n",
       "      <td>0.327607</td>\n",
       "      <td>-0.216353</td>\n",
       "      <td>0.5</td>\n",
       "      <td>-0.268293</td>\n",
       "      <td>-6.350746</td>\n",
       "      <td>-0.330677</td>\n",
       "      <td>-0.076923</td>\n",
       "      <td>0.169118</td>\n",
       "      <td>...</td>\n",
       "      <td>1.0</td>\n",
       "      <td>0.0</td>\n",
       "      <td>0.0</td>\n",
       "      <td>0.0</td>\n",
       "      <td>0.0</td>\n",
       "      <td>0.0</td>\n",
       "      <td>0.0</td>\n",
       "      <td>0.0</td>\n",
       "      <td>0.0</td>\n",
       "      <td>0.0</td>\n",
       "    </tr>\n",
       "    <tr>\n",
       "      <th>1</th>\n",
       "      <td>-1.231511</td>\n",
       "      <td>-0.430718</td>\n",
       "      <td>0.236464</td>\n",
       "      <td>-0.226875</td>\n",
       "      <td>2.5</td>\n",
       "      <td>-0.268293</td>\n",
       "      <td>-6.350746</td>\n",
       "      <td>-0.330677</td>\n",
       "      <td>-0.153846</td>\n",
       "      <td>-0.246324</td>\n",
       "      <td>...</td>\n",
       "      <td>1.0</td>\n",
       "      <td>0.0</td>\n",
       "      <td>0.0</td>\n",
       "      <td>0.0</td>\n",
       "      <td>0.0</td>\n",
       "      <td>0.0</td>\n",
       "      <td>0.0</td>\n",
       "      <td>0.0</td>\n",
       "      <td>0.0</td>\n",
       "      <td>0.0</td>\n",
       "    </tr>\n",
       "    <tr>\n",
       "      <th>2</th>\n",
       "      <td>-1.231412</td>\n",
       "      <td>-0.430353</td>\n",
       "      <td>0.717012</td>\n",
       "      <td>-0.400108</td>\n",
       "      <td>0.0</td>\n",
       "      <td>4.682927</td>\n",
       "      <td>0.054726</td>\n",
       "      <td>0.430279</td>\n",
       "      <td>0.153846</td>\n",
       "      <td>0.636029</td>\n",
       "      <td>...</td>\n",
       "      <td>0.0</td>\n",
       "      <td>0.0</td>\n",
       "      <td>0.0</td>\n",
       "      <td>0.0</td>\n",
       "      <td>0.0</td>\n",
       "      <td>0.0</td>\n",
       "      <td>-1.0</td>\n",
       "      <td>0.0</td>\n",
       "      <td>1.0</td>\n",
       "      <td>0.0</td>\n",
       "    </tr>\n",
       "    <tr>\n",
       "      <th>3</th>\n",
       "      <td>-1.230937</td>\n",
       "      <td>-0.429856</td>\n",
       "      <td>0.652675</td>\n",
       "      <td>-0.106251</td>\n",
       "      <td>0.0</td>\n",
       "      <td>12.536585</td>\n",
       "      <td>0.064677</td>\n",
       "      <td>1.621514</td>\n",
       "      <td>-0.076923</td>\n",
       "      <td>0.316176</td>\n",
       "      <td>...</td>\n",
       "      <td>0.0</td>\n",
       "      <td>0.0</td>\n",
       "      <td>1.0</td>\n",
       "      <td>0.0</td>\n",
       "      <td>0.0</td>\n",
       "      <td>0.0</td>\n",
       "      <td>0.0</td>\n",
       "      <td>0.0</td>\n",
       "      <td>0.0</td>\n",
       "      <td>0.0</td>\n",
       "    </tr>\n",
       "    <tr>\n",
       "      <th>4</th>\n",
       "      <td>-1.230898</td>\n",
       "      <td>-0.432637</td>\n",
       "      <td>0.684702</td>\n",
       "      <td>0.022508</td>\n",
       "      <td>-0.5</td>\n",
       "      <td>14.268293</td>\n",
       "      <td>0.097015</td>\n",
       "      <td>2.422311</td>\n",
       "      <td>-0.076923</td>\n",
       "      <td>-0.102941</td>\n",
       "      <td>...</td>\n",
       "      <td>0.0</td>\n",
       "      <td>0.0</td>\n",
       "      <td>1.0</td>\n",
       "      <td>0.0</td>\n",
       "      <td>0.0</td>\n",
       "      <td>0.0</td>\n",
       "      <td>0.0</td>\n",
       "      <td>0.0</td>\n",
       "      <td>0.0</td>\n",
       "      <td>0.0</td>\n",
       "    </tr>\n",
       "  </tbody>\n",
       "</table>\n",
       "<p>5 rows × 29 columns</p>\n",
       "</div>"
      ],
      "text/plain": [
       "         id   host_id  latitude  longitude  minimum_nights  number_of_reviews  \\\n",
       "0 -1.234195 -0.432766  0.327607  -0.216353             0.5          -0.268293   \n",
       "1 -1.231511 -0.430718  0.236464  -0.226875             2.5          -0.268293   \n",
       "2 -1.231412 -0.430353  0.717012  -0.400108             0.0           4.682927   \n",
       "3 -1.230937 -0.429856  0.652675  -0.106251             0.0          12.536585   \n",
       "4 -1.230898 -0.432637  0.684702   0.022508            -0.5          14.268293   \n",
       "\n",
       "   last_review  reviews_per_month  calculated_host_listings_count  \\\n",
       "0    -6.350746          -0.330677                       -0.076923   \n",
       "1    -6.350746          -0.330677                       -0.153846   \n",
       "2     0.054726           0.430279                        0.153846   \n",
       "3     0.064677           1.621514                       -0.076923   \n",
       "4     0.097015           2.422311                       -0.076923   \n",
       "\n",
       "   availability_365  ...  neighbourhood_Mission Bay  \\\n",
       "0          0.169118  ...                        1.0   \n",
       "1         -0.246324  ...                        1.0   \n",
       "2          0.636029  ...                        0.0   \n",
       "3          0.316176  ...                        0.0   \n",
       "4         -0.102941  ...                        0.0   \n",
       "\n",
       "   neighbourhood_Ocean Beach  neighbourhood_Pacific Beach  \\\n",
       "0                        0.0                          0.0   \n",
       "1                        0.0                          0.0   \n",
       "2                        0.0                          0.0   \n",
       "3                        0.0                          1.0   \n",
       "4                        0.0                          1.0   \n",
       "\n",
       "   neighbourhood_Park West  neighbourhood_University City  \\\n",
       "0                      0.0                            0.0   \n",
       "1                      0.0                            0.0   \n",
       "2                      0.0                            0.0   \n",
       "3                      0.0                            0.0   \n",
       "4                      0.0                            0.0   \n",
       "\n",
       "   neighbourhood_West University Heights  room_type_Entire home/apt  \\\n",
       "0                                    0.0                        0.0   \n",
       "1                                    0.0                        0.0   \n",
       "2                                    0.0                       -1.0   \n",
       "3                                    0.0                        0.0   \n",
       "4                                    0.0                        0.0   \n",
       "\n",
       "   room_type_Hotel room  room_type_Private room  room_type_Shared room  \n",
       "0                   0.0                     0.0                    0.0  \n",
       "1                   0.0                     0.0                    0.0  \n",
       "2                   0.0                     1.0                    0.0  \n",
       "3                   0.0                     0.0                    0.0  \n",
       "4                   0.0                     0.0                    0.0  \n",
       "\n",
       "[5 rows x 29 columns]"
      ]
     },
     "execution_count": 169,
     "metadata": {},
     "output_type": "execute_result"
    }
   ],
   "source": [
    "from sklearn.preprocessing import scale,RobustScaler\n",
    "y = new_data.iloc[:,-1]\n",
    "X = new_data.iloc[:,:-1]\n",
    "columns=X.columns.tolist()\n",
    "scaler=RobustScaler()\n",
    "X = pd.DataFrame(scaler.fit_transform(X),columns=columns)\n",
    "X.head()"
   ]
  },
  {
   "cell_type": "markdown",
   "metadata": {},
   "source": [
    "## 房价评估模型"
   ]
  },
  {
   "cell_type": "code",
   "execution_count": 161,
   "metadata": {},
   "outputs": [
    {
     "name": "stdout",
     "output_type": "stream",
     "text": [
      "The shape of Xtrain:(6369, 29)\n",
      "The shape of Xtest:(1593, 29)\n",
      "The shape of ytrain:(6369,)\n",
      "The shape of ytest:(1593,)\n"
     ]
    }
   ],
   "source": [
    "from sklearn.model_selection import train_test_split\n",
    "Xtrain,Xtest,ytrain,ytest = train_test_split(X,y,test_size=0.2,random_state=42)\n",
    "print(f'The shape of Xtrain:{Xtrain.shape}')\n",
    "print(f'The shape of Xtest:{Xtest.shape}')\n",
    "print(f'The shape of ytrain:{ytrain.shape}')\n",
    "print(f'The shape of ytest:{ytest.shape}')\n"
   ]
  },
  {
   "cell_type": "markdown",
   "metadata": {},
   "source": [
    "## 随机森林模型"
   ]
  },
  {
   "cell_type": "code",
   "execution_count": 164,
   "metadata": {},
   "outputs": [],
   "source": [
    "def r2_score(model):\n",
    "    return cross_val_score(model,Xtrain,ytrain,cv=8)\n",
    "def rmse_score(model):\n",
    "    return cross_val_score(model,Xtrain,ytrain,scoring='neg_mean_squared_error',cv=8)"
   ]
  },
  {
   "cell_type": "code",
   "execution_count": 163,
   "metadata": {},
   "outputs": [
    {
     "data": {
      "text/html": [
       "<div>\n",
       "<style scoped>\n",
       "    .dataframe tbody tr th:only-of-type {\n",
       "        vertical-align: middle;\n",
       "    }\n",
       "\n",
       "    .dataframe tbody tr th {\n",
       "        vertical-align: top;\n",
       "    }\n",
       "\n",
       "    .dataframe thead th {\n",
       "        text-align: right;\n",
       "    }\n",
       "</style>\n",
       "<table border=\"1\" class=\"dataframe\">\n",
       "  <thead>\n",
       "    <tr style=\"text-align: right;\">\n",
       "      <th></th>\n",
       "      <th>model</th>\n",
       "      <th>CV_rfr_r2:</th>\n",
       "      <th>train error:</th>\n",
       "      <th>test error:</th>\n",
       "    </tr>\n",
       "  </thead>\n",
       "  <tbody>\n",
       "    <tr>\n",
       "      <th>0</th>\n",
       "      <td>RandomForestRegressor</td>\n",
       "      <td>0.02595</td>\n",
       "      <td>18978.145491</td>\n",
       "      <td>130277.244771</td>\n",
       "    </tr>\n",
       "  </tbody>\n",
       "</table>\n",
       "</div>"
      ],
      "text/plain": [
       "                   model  CV_rfr_r2:  train error:    test error:\n",
       "0  RandomForestRegressor     0.02595  18978.145491  130277.244771"
      ]
     },
     "execution_count": 163,
     "metadata": {},
     "output_type": "execute_result"
    }
   ],
   "source": [
    "from sklearn.ensemble import RandomForestRegressor\n",
    "from sklearn.model_selection import cross_val_score\n",
    "\n",
    "\n",
    "base_rfr_cv = r2_score(RandomForestRegressor(random_state=42))\n",
    "base_rfr_model=RandomForestRegressor(random_state=42)\n",
    "base_rfr_model = base_rfr_model.fit(Xtrain,ytrain)\n",
    "rfr_predict_ytrain = base_rfr_model.predict(Xtrain)\n",
    "rfr_predict_ytest = base_rfr_model.predict(Xtest)\n",
    "base_rfr_result=pd.DataFrame({'model':['RandomForestRegressor'],\n",
    "                'CV_rfr_r2:':base_rfr_cv.mean(),\n",
    "                'train error:':mean_squared_error(rfr_predict_ytrain,ytrain),\n",
    "                'test error:':mean_squared_error(rfr_predict_ytest,ytest)})\n",
    "base_rfr_result"
   ]
  },
  {
   "cell_type": "code",
   "execution_count": 165,
   "metadata": {},
   "outputs": [
    {
     "name": "stdout",
     "output_type": "stream",
     "text": [
      "Fitting 3 folds for each of 10 candidates, totalling 30 fits\n",
      "[CV] n_estimators=1860, min_samples_split=4, min_samples_leaf=2, max_features=auto, max_depth=5, bootstrap=False \n",
      "[CV]  n_estimators=1860, min_samples_split=4, min_samples_leaf=2, max_features=auto, max_depth=5, bootstrap=False, total=  28.8s\n",
      "[CV] n_estimators=1860, min_samples_split=4, min_samples_leaf=2, max_features=auto, max_depth=5, bootstrap=False \n"
     ]
    },
    {
     "name": "stderr",
     "output_type": "stream",
     "text": [
      "[Parallel(n_jobs=1)]: Done   1 out of   1 | elapsed:   29.1s remaining:    0.0s\n"
     ]
    },
    {
     "name": "stdout",
     "output_type": "stream",
     "text": [
      "[CV]  n_estimators=1860, min_samples_split=4, min_samples_leaf=2, max_features=auto, max_depth=5, bootstrap=False, total=  30.1s\n",
      "[CV] n_estimators=1860, min_samples_split=4, min_samples_leaf=2, max_features=auto, max_depth=5, bootstrap=False \n",
      "[CV]  n_estimators=1860, min_samples_split=4, min_samples_leaf=2, max_features=auto, max_depth=5, bootstrap=False, total=  24.2s\n",
      "[CV] n_estimators=1100, min_samples_split=2, min_samples_leaf=4, max_features=sqrt, max_depth=9, bootstrap=True \n",
      "[CV]  n_estimators=1100, min_samples_split=2, min_samples_leaf=4, max_features=sqrt, max_depth=9, bootstrap=True, total=   4.5s\n",
      "[CV] n_estimators=1100, min_samples_split=2, min_samples_leaf=4, max_features=sqrt, max_depth=9, bootstrap=True \n",
      "[CV]  n_estimators=1100, min_samples_split=2, min_samples_leaf=4, max_features=sqrt, max_depth=9, bootstrap=True, total=   4.8s\n",
      "[CV] n_estimators=1100, min_samples_split=2, min_samples_leaf=4, max_features=sqrt, max_depth=9, bootstrap=True \n",
      "[CV]  n_estimators=1100, min_samples_split=2, min_samples_leaf=4, max_features=sqrt, max_depth=9, bootstrap=True, total=   5.2s\n",
      "[CV] n_estimators=1380, min_samples_split=7, min_samples_leaf=4, max_features=auto, max_depth=1, bootstrap=True \n",
      "[CV]  n_estimators=1380, min_samples_split=7, min_samples_leaf=4, max_features=auto, max_depth=1, bootstrap=True, total=   5.5s\n",
      "[CV] n_estimators=1380, min_samples_split=7, min_samples_leaf=4, max_features=auto, max_depth=1, bootstrap=True \n",
      "[CV]  n_estimators=1380, min_samples_split=7, min_samples_leaf=4, max_features=auto, max_depth=1, bootstrap=True, total=   4.0s\n",
      "[CV] n_estimators=1380, min_samples_split=7, min_samples_leaf=4, max_features=auto, max_depth=1, bootstrap=True \n",
      "[CV]  n_estimators=1380, min_samples_split=7, min_samples_leaf=4, max_features=auto, max_depth=1, bootstrap=True, total=   4.7s\n",
      "[CV] n_estimators=900, min_samples_split=2, min_samples_leaf=1, max_features=auto, max_depth=4, bootstrap=True \n",
      "[CV]  n_estimators=900, min_samples_split=2, min_samples_leaf=1, max_features=auto, max_depth=4, bootstrap=True, total=   6.8s\n",
      "[CV] n_estimators=900, min_samples_split=2, min_samples_leaf=1, max_features=auto, max_depth=4, bootstrap=True \n",
      "[CV]  n_estimators=900, min_samples_split=2, min_samples_leaf=1, max_features=auto, max_depth=4, bootstrap=True, total=   7.1s\n",
      "[CV] n_estimators=900, min_samples_split=2, min_samples_leaf=1, max_features=auto, max_depth=4, bootstrap=True \n",
      "[CV]  n_estimators=900, min_samples_split=2, min_samples_leaf=1, max_features=auto, max_depth=4, bootstrap=True, total=   7.4s\n",
      "[CV] n_estimators=80, min_samples_split=4, min_samples_leaf=2, max_features=sqrt, max_depth=8, bootstrap=False \n",
      "[CV]  n_estimators=80, min_samples_split=4, min_samples_leaf=2, max_features=sqrt, max_depth=8, bootstrap=False, total=   0.4s\n",
      "[CV] n_estimators=80, min_samples_split=4, min_samples_leaf=2, max_features=sqrt, max_depth=8, bootstrap=False \n",
      "[CV]  n_estimators=80, min_samples_split=4, min_samples_leaf=2, max_features=sqrt, max_depth=8, bootstrap=False, total=   0.4s\n",
      "[CV] n_estimators=80, min_samples_split=4, min_samples_leaf=2, max_features=sqrt, max_depth=8, bootstrap=False \n",
      "[CV]  n_estimators=80, min_samples_split=4, min_samples_leaf=2, max_features=sqrt, max_depth=8, bootstrap=False, total=   0.4s\n",
      "[CV] n_estimators=1860, min_samples_split=4, min_samples_leaf=1, max_features=auto, max_depth=4, bootstrap=False \n",
      "[CV]  n_estimators=1860, min_samples_split=4, min_samples_leaf=1, max_features=auto, max_depth=4, bootstrap=False, total=  21.1s\n",
      "[CV] n_estimators=1860, min_samples_split=4, min_samples_leaf=1, max_features=auto, max_depth=4, bootstrap=False \n",
      "[CV]  n_estimators=1860, min_samples_split=4, min_samples_leaf=1, max_features=auto, max_depth=4, bootstrap=False, total=  20.2s\n",
      "[CV] n_estimators=1860, min_samples_split=4, min_samples_leaf=1, max_features=auto, max_depth=4, bootstrap=False \n",
      "[CV]  n_estimators=1860, min_samples_split=4, min_samples_leaf=1, max_features=auto, max_depth=4, bootstrap=False, total=  20.6s\n",
      "[CV] n_estimators=1700, min_samples_split=2, min_samples_leaf=2, max_features=sqrt, max_depth=7, bootstrap=True \n",
      "[CV]  n_estimators=1700, min_samples_split=2, min_samples_leaf=2, max_features=sqrt, max_depth=7, bootstrap=True, total=   6.4s\n",
      "[CV] n_estimators=1700, min_samples_split=2, min_samples_leaf=2, max_features=sqrt, max_depth=7, bootstrap=True \n",
      "[CV]  n_estimators=1700, min_samples_split=2, min_samples_leaf=2, max_features=sqrt, max_depth=7, bootstrap=True, total=   6.4s\n",
      "[CV] n_estimators=1700, min_samples_split=2, min_samples_leaf=2, max_features=sqrt, max_depth=7, bootstrap=True \n",
      "[CV]  n_estimators=1700, min_samples_split=2, min_samples_leaf=2, max_features=sqrt, max_depth=7, bootstrap=True, total=   6.0s\n",
      "[CV] n_estimators=1960, min_samples_split=7, min_samples_leaf=2, max_features=auto, max_depth=7, bootstrap=True \n",
      "[CV]  n_estimators=1960, min_samples_split=7, min_samples_leaf=2, max_features=auto, max_depth=7, bootstrap=True, total=  24.0s\n",
      "[CV] n_estimators=1960, min_samples_split=7, min_samples_leaf=2, max_features=auto, max_depth=7, bootstrap=True \n",
      "[CV]  n_estimators=1960, min_samples_split=7, min_samples_leaf=2, max_features=auto, max_depth=7, bootstrap=True, total=  24.6s\n",
      "[CV] n_estimators=1960, min_samples_split=7, min_samples_leaf=2, max_features=auto, max_depth=7, bootstrap=True \n",
      "[CV]  n_estimators=1960, min_samples_split=7, min_samples_leaf=2, max_features=auto, max_depth=7, bootstrap=True, total=  24.9s\n",
      "[CV] n_estimators=840, min_samples_split=4, min_samples_leaf=4, max_features=auto, max_depth=4, bootstrap=False \n",
      "[CV]  n_estimators=840, min_samples_split=4, min_samples_leaf=4, max_features=auto, max_depth=4, bootstrap=False, total=   9.4s\n",
      "[CV] n_estimators=840, min_samples_split=4, min_samples_leaf=4, max_features=auto, max_depth=4, bootstrap=False \n",
      "[CV]  n_estimators=840, min_samples_split=4, min_samples_leaf=4, max_features=auto, max_depth=4, bootstrap=False, total=  10.1s\n",
      "[CV] n_estimators=840, min_samples_split=4, min_samples_leaf=4, max_features=auto, max_depth=4, bootstrap=False \n",
      "[CV]  n_estimators=840, min_samples_split=4, min_samples_leaf=4, max_features=auto, max_depth=4, bootstrap=False, total=   9.8s\n",
      "[CV] n_estimators=580, min_samples_split=2, min_samples_leaf=1, max_features=sqrt, max_depth=4, bootstrap=True \n",
      "[CV]  n_estimators=580, min_samples_split=2, min_samples_leaf=1, max_features=sqrt, max_depth=4, bootstrap=True, total=   1.6s\n",
      "[CV] n_estimators=580, min_samples_split=2, min_samples_leaf=1, max_features=sqrt, max_depth=4, bootstrap=True \n",
      "[CV]  n_estimators=580, min_samples_split=2, min_samples_leaf=1, max_features=sqrt, max_depth=4, bootstrap=True, total=   1.6s\n",
      "[CV] n_estimators=580, min_samples_split=2, min_samples_leaf=1, max_features=sqrt, max_depth=4, bootstrap=True \n",
      "[CV]  n_estimators=580, min_samples_split=2, min_samples_leaf=1, max_features=sqrt, max_depth=4, bootstrap=True, total=   2.5s\n"
     ]
    },
    {
     "name": "stderr",
     "output_type": "stream",
     "text": [
      "[Parallel(n_jobs=1)]: Done  30 out of  30 | elapsed:  5.5min finished\n"
     ]
    },
    {
     "data": {
      "text/plain": [
       "RandomizedSearchCV(cv=3, error_score='raise',\n",
       "          estimator=RandomForestRegressor(bootstrap=True, criterion='mse', max_depth=None,\n",
       "           max_features='auto', max_leaf_nodes=None,\n",
       "           min_impurity_decrease=0.0, min_impurity_split=None,\n",
       "           min_samples_leaf=1, min_samples_split=2,\n",
       "           min_weight_fraction_leaf=0.0, n_estimators=10, n_jobs=1,\n",
       "           oob_score=False, random_state=42, verbose=0, warm_start=False),\n",
       "          fit_params=None, iid=True, n_iter=10, n_jobs=1,\n",
       "          param_distributions={'n_estimators': [20, 40, 60, 80, 100, 120, 140, 160, 180, 200, 220, 240, 260, 280, 300, 320, 340, 360, 380, 400, 420, 440, 460, 480, 500, 520, 540, 560, 580, 600, 620, 640, 660, 680, 700, 720, 740, 760, 780, 800, 820, 840, 860, 880, 900, 920, 940, 960, 980, 1000, 1020, 1040, 106...7, 8, 9], 'min_samples_split': [2, 4, 7], 'min_samples_leaf': [1, 2, 4], 'bootstrap': [True, False]},\n",
       "          pre_dispatch='2*n_jobs', random_state=42, refit=True,\n",
       "          return_train_score='warn', scoring=None, verbose=2)"
      ]
     },
     "execution_count": 165,
     "metadata": {},
     "output_type": "execute_result"
    }
   ],
   "source": [
    "from sklearn.model_selection import  RandomizedSearchCV\n",
    "n_estimators=[x for x in range(20,2000,20)]\n",
    "max_depth=[x for x in range(1,10,1)]\n",
    "max_features=['auto','sqrt']\n",
    "min_samples_split=[2,4,7]\n",
    "min_samples_leaf=[1,2,4]\n",
    "bootstrap=[True,False]\n",
    "random_grid={'n_estimators':n_estimators,\n",
    "             'max_features':max_features,\n",
    "             'max_depth':max_depth,\n",
    "             'min_samples_split':min_samples_split,\n",
    "             'min_samples_leaf':min_samples_leaf,\n",
    "             'bootstrap':bootstrap\n",
    "}\n",
    "rf_random = RandomizedSearchCV(estimator=RandomForestRegressor(random_state=42), param_distributions = random_grid, n_iter=10, cv = 3, verbose=2, random_state=42)\n",
    "rf_random.fit(Xtrain, ytrain)\n"
   ]
  },
  {
   "cell_type": "markdown",
   "metadata": {},
   "source": [
    "## 查看搜索到的最佳模型"
   ]
  },
  {
   "cell_type": "code",
   "execution_count": 166,
   "metadata": {},
   "outputs": [
    {
     "data": {
      "text/plain": [
       "RandomForestRegressor(bootstrap=True, criterion='mse', max_depth=9,\n",
       "           max_features='sqrt', max_leaf_nodes=None,\n",
       "           min_impurity_decrease=0.0, min_impurity_split=None,\n",
       "           min_samples_leaf=4, min_samples_split=2,\n",
       "           min_weight_fraction_leaf=0.0, n_estimators=1100, n_jobs=1,\n",
       "           oob_score=False, random_state=42, verbose=0, warm_start=False)"
      ]
     },
     "execution_count": 166,
     "metadata": {},
     "output_type": "execute_result"
    }
   ],
   "source": [
    "best_rfr=rf_random.best_estimator_\n",
    "best_rfr"
   ]
  },
  {
   "cell_type": "code",
   "execution_count": 167,
   "metadata": {},
   "outputs": [
    {
     "data": {
      "text/html": [
       "<div>\n",
       "<style scoped>\n",
       "    .dataframe tbody tr th:only-of-type {\n",
       "        vertical-align: middle;\n",
       "    }\n",
       "\n",
       "    .dataframe tbody tr th {\n",
       "        vertical-align: top;\n",
       "    }\n",
       "\n",
       "    .dataframe thead th {\n",
       "        text-align: right;\n",
       "    }\n",
       "</style>\n",
       "<table border=\"1\" class=\"dataframe\">\n",
       "  <thead>\n",
       "    <tr style=\"text-align: right;\">\n",
       "      <th></th>\n",
       "      <th>algorithm:</th>\n",
       "      <th>CV_rfr_r2:</th>\n",
       "      <th>train error:</th>\n",
       "      <th>test error:</th>\n",
       "    </tr>\n",
       "  </thead>\n",
       "  <tbody>\n",
       "    <tr>\n",
       "      <th>0</th>\n",
       "      <td>RandomForestRegressor</td>\n",
       "      <td>0.250452</td>\n",
       "      <td>73380.659789</td>\n",
       "      <td>109972.555674</td>\n",
       "    </tr>\n",
       "  </tbody>\n",
       "</table>\n",
       "</div>"
      ],
      "text/plain": [
       "              algorithm:  CV_rfr_r2:  train error:    test error:\n",
       "0  RandomForestRegressor    0.250452  73380.659789  109972.555674"
      ]
     },
     "execution_count": 167,
     "metadata": {},
     "output_type": "execute_result"
    }
   ],
   "source": [
    "rfr_best_score=r2_score(best_rfr)\n",
    "rfr_best_model=best_rfr.fit(Xtrain,ytrain)\n",
    "predict_ytrain_rfr=rfr_best_model.predict(Xtrain)\n",
    "precict_ytest_rfr = rfr_best_model.predict(Xtest)\n",
    "rfr_result=pd.DataFrame({'algorithm:':['RandomForestRegressor'],\n",
    "                        'CV_rfr_r2:':rfr_best_score.mean(),\n",
    "                        'train error:':mean_squared_error(predict_ytrain_rfr,ytrain),\n",
    "                        'test error:':mean_squared_error(precict_ytest_rfr,ytest)}\n",
    "                       )\n",
    "rfr_result"
   ]
  },
  {
   "cell_type": "markdown",
   "metadata": {},
   "source": [
    "## 特征选择"
   ]
  },
  {
   "cell_type": "code",
   "execution_count": 170,
   "metadata": {},
   "outputs": [
    {
     "data": {
      "text/html": [
       "<div>\n",
       "<style scoped>\n",
       "    .dataframe tbody tr th:only-of-type {\n",
       "        vertical-align: middle;\n",
       "    }\n",
       "\n",
       "    .dataframe tbody tr th {\n",
       "        vertical-align: top;\n",
       "    }\n",
       "\n",
       "    .dataframe thead th {\n",
       "        text-align: right;\n",
       "    }\n",
       "</style>\n",
       "<table border=\"1\" class=\"dataframe\">\n",
       "  <thead>\n",
       "    <tr style=\"text-align: right;\">\n",
       "      <th></th>\n",
       "      <th>id</th>\n",
       "      <th>host_id</th>\n",
       "      <th>latitude</th>\n",
       "      <th>longitude</th>\n",
       "      <th>minimum_nights</th>\n",
       "      <th>number_of_reviews</th>\n",
       "      <th>last_review</th>\n",
       "      <th>reviews_per_month</th>\n",
       "      <th>calculated_host_listings_count</th>\n",
       "      <th>availability_365</th>\n",
       "      <th>neighbourhood_East Village</th>\n",
       "      <th>neighbourhood_La Jolla</th>\n",
       "      <th>neighbourhood_Mission Bay</th>\n",
       "      <th>neighbourhood_Pacific Beach</th>\n",
       "      <th>room_type_Entire home/apt</th>\n",
       "      <th>room_type_Private room</th>\n",
       "    </tr>\n",
       "  </thead>\n",
       "  <tbody>\n",
       "    <tr>\n",
       "      <th>0</th>\n",
       "      <td>-1.234195</td>\n",
       "      <td>-0.432766</td>\n",
       "      <td>0.327607</td>\n",
       "      <td>-0.216353</td>\n",
       "      <td>0.5</td>\n",
       "      <td>-0.268293</td>\n",
       "      <td>-6.350746</td>\n",
       "      <td>-0.330677</td>\n",
       "      <td>-0.076923</td>\n",
       "      <td>0.169118</td>\n",
       "      <td>0.0</td>\n",
       "      <td>0.0</td>\n",
       "      <td>1.0</td>\n",
       "      <td>0.0</td>\n",
       "      <td>0.0</td>\n",
       "      <td>0.0</td>\n",
       "    </tr>\n",
       "    <tr>\n",
       "      <th>1</th>\n",
       "      <td>-1.231511</td>\n",
       "      <td>-0.430718</td>\n",
       "      <td>0.236464</td>\n",
       "      <td>-0.226875</td>\n",
       "      <td>2.5</td>\n",
       "      <td>-0.268293</td>\n",
       "      <td>-6.350746</td>\n",
       "      <td>-0.330677</td>\n",
       "      <td>-0.153846</td>\n",
       "      <td>-0.246324</td>\n",
       "      <td>0.0</td>\n",
       "      <td>0.0</td>\n",
       "      <td>1.0</td>\n",
       "      <td>0.0</td>\n",
       "      <td>0.0</td>\n",
       "      <td>0.0</td>\n",
       "    </tr>\n",
       "    <tr>\n",
       "      <th>2</th>\n",
       "      <td>-1.231412</td>\n",
       "      <td>-0.430353</td>\n",
       "      <td>0.717012</td>\n",
       "      <td>-0.400108</td>\n",
       "      <td>0.0</td>\n",
       "      <td>4.682927</td>\n",
       "      <td>0.054726</td>\n",
       "      <td>0.430279</td>\n",
       "      <td>0.153846</td>\n",
       "      <td>0.636029</td>\n",
       "      <td>0.0</td>\n",
       "      <td>1.0</td>\n",
       "      <td>0.0</td>\n",
       "      <td>0.0</td>\n",
       "      <td>-1.0</td>\n",
       "      <td>1.0</td>\n",
       "    </tr>\n",
       "    <tr>\n",
       "      <th>3</th>\n",
       "      <td>-1.230937</td>\n",
       "      <td>-0.429856</td>\n",
       "      <td>0.652675</td>\n",
       "      <td>-0.106251</td>\n",
       "      <td>0.0</td>\n",
       "      <td>12.536585</td>\n",
       "      <td>0.064677</td>\n",
       "      <td>1.621514</td>\n",
       "      <td>-0.076923</td>\n",
       "      <td>0.316176</td>\n",
       "      <td>0.0</td>\n",
       "      <td>0.0</td>\n",
       "      <td>0.0</td>\n",
       "      <td>1.0</td>\n",
       "      <td>0.0</td>\n",
       "      <td>0.0</td>\n",
       "    </tr>\n",
       "    <tr>\n",
       "      <th>4</th>\n",
       "      <td>-1.230898</td>\n",
       "      <td>-0.432637</td>\n",
       "      <td>0.684702</td>\n",
       "      <td>0.022508</td>\n",
       "      <td>-0.5</td>\n",
       "      <td>14.268293</td>\n",
       "      <td>0.097015</td>\n",
       "      <td>2.422311</td>\n",
       "      <td>-0.076923</td>\n",
       "      <td>-0.102941</td>\n",
       "      <td>0.0</td>\n",
       "      <td>0.0</td>\n",
       "      <td>0.0</td>\n",
       "      <td>1.0</td>\n",
       "      <td>0.0</td>\n",
       "      <td>0.0</td>\n",
       "    </tr>\n",
       "  </tbody>\n",
       "</table>\n",
       "</div>"
      ],
      "text/plain": [
       "         id   host_id  latitude  longitude  minimum_nights  number_of_reviews  \\\n",
       "0 -1.234195 -0.432766  0.327607  -0.216353             0.5          -0.268293   \n",
       "1 -1.231511 -0.430718  0.236464  -0.226875             2.5          -0.268293   \n",
       "2 -1.231412 -0.430353  0.717012  -0.400108             0.0           4.682927   \n",
       "3 -1.230937 -0.429856  0.652675  -0.106251             0.0          12.536585   \n",
       "4 -1.230898 -0.432637  0.684702   0.022508            -0.5          14.268293   \n",
       "\n",
       "   last_review  reviews_per_month  calculated_host_listings_count  \\\n",
       "0    -6.350746          -0.330677                       -0.076923   \n",
       "1    -6.350746          -0.330677                       -0.153846   \n",
       "2     0.054726           0.430279                        0.153846   \n",
       "3     0.064677           1.621514                       -0.076923   \n",
       "4     0.097015           2.422311                       -0.076923   \n",
       "\n",
       "   availability_365  neighbourhood_East Village  neighbourhood_La Jolla  \\\n",
       "0          0.169118                         0.0                     0.0   \n",
       "1         -0.246324                         0.0                     0.0   \n",
       "2          0.636029                         0.0                     1.0   \n",
       "3          0.316176                         0.0                     0.0   \n",
       "4         -0.102941                         0.0                     0.0   \n",
       "\n",
       "   neighbourhood_Mission Bay  neighbourhood_Pacific Beach  \\\n",
       "0                        1.0                          0.0   \n",
       "1                        1.0                          0.0   \n",
       "2                        0.0                          0.0   \n",
       "3                        0.0                          1.0   \n",
       "4                        0.0                          1.0   \n",
       "\n",
       "   room_type_Entire home/apt  room_type_Private room  \n",
       "0                        0.0                     0.0  \n",
       "1                        0.0                     0.0  \n",
       "2                       -1.0                     1.0  \n",
       "3                        0.0                     0.0  \n",
       "4                        0.0                     0.0  "
      ]
     },
     "execution_count": 170,
     "metadata": {},
     "output_type": "execute_result"
    }
   ],
   "source": [
    "#对整体数据集进行标准化处理\n",
    "columns=X.columns.tolist()\n",
    "scaler=RobustScaler()\n",
    "X = pd.DataFrame(scaler.fit_transform(X),columns=columns)\n",
    "X.head()\n",
    "#进行特征选择\n",
    "from sklearn.feature_selection import VarianceThreshold\n",
    "selector=VarianceThreshold(.9*(1-.9))\n",
    "X_var = selector.fit_transform(X)\n",
    "#获得筛选出特征的columns\n",
    "X_var_columns = X.columns[selector.get_support(indices=True)]\n",
    "X_var = pd.DataFrame(X_var,columns=X_var_columns)\n",
    "X_var.head()"
   ]
  },
  {
   "cell_type": "markdown",
   "metadata": {},
   "source": [
    "## 再次进行训练集和测试集划分"
   ]
  },
  {
   "cell_type": "code",
   "execution_count": 171,
   "metadata": {},
   "outputs": [],
   "source": [
    "Xtrain,Xtest,ytrain,ytest = train_test_split(X,y,test_size=0.3,random_state=42)"
   ]
  },
  {
   "cell_type": "markdown",
   "metadata": {},
   "source": [
    "## 随机森林调参"
   ]
  },
  {
   "cell_type": "markdown",
   "metadata": {},
   "source": [
    "调参思想：\n",
    "随机森林模型中重要的参数有 n_estimators, max_depth, max_features, min_sample_leaf， min_sample_split。\n",
    "n_estimators 参数决定森林模型中树的数量，而其余参数决定每棵树的特征, 先对后几个参数进行调参，再调n_estimators 会在提高效率的同时得到相对更合理的模型。\n",
    "\n",
    "首先对 max_depth, max_features, min_sample_leaf， min_sample_split 四个参数进行试探的交叉验证。\n"
   ]
  },
  {
   "cell_type": "code",
   "execution_count": 172,
   "metadata": {},
   "outputs": [],
   "source": [
    "from sklearn.metrics import mean_squared_error\n",
    "from sklearn.model_selection import GridSearchCV"
   ]
  },
  {
   "cell_type": "code",
   "execution_count": 173,
   "metadata": {},
   "outputs": [
    {
     "data": {
      "text/plain": [
       "GridSearchCV(cv=3, error_score='raise',\n",
       "       estimator=RandomForestRegressor(bootstrap=True, criterion='mse', max_depth=None,\n",
       "           max_features='auto', max_leaf_nodes=None,\n",
       "           min_impurity_decrease=0.0, min_impurity_split=None,\n",
       "           min_samples_leaf=1, min_samples_split=2,\n",
       "           min_weight_fraction_leaf=0.0, n_estimators=10, n_jobs=1,\n",
       "           oob_score=False, random_state=42, verbose=0, warm_start=False),\n",
       "       fit_params=None, iid=True, n_jobs=1,\n",
       "       param_grid={'n_estimators': [10], 'max_depth': [5, 7, 9], 'max_features': [5, 6, 7, 8, 9, 10, 11, 12, 13], 'min_samples_leaf': [2, 3, 4, 5, 6, 7, 8, 9], 'min_samples_split': [2, 3, 4]},\n",
       "       pre_dispatch='2*n_jobs', refit=True, return_train_score='warn',\n",
       "       scoring=None, verbose=0)"
      ]
     },
     "execution_count": 173,
     "metadata": {},
     "output_type": "execute_result"
    }
   ],
   "source": [
    "#为避免警告信息，这里现将n_estimators设定为10.\n",
    "n_estimators=[10]\n",
    "max_depth=[i for i in range(5,10,2)]\n",
    "max_features=[i for i in range(5,14,1)]\n",
    "min_samples_leaf=[i for i in range(2,10,1)]\n",
    "min_samples_split=[i for i in range(2,5,1)]\n",
    "parameters = {\n",
    "    'n_estimators':n_estimators,\n",
    "    'max_depth':max_depth,\n",
    "    'max_features':max_features,\n",
    "    'min_samples_leaf':min_samples_leaf,\n",
    "    'min_samples_split':min_samples_split\n",
    "}\n",
    "rfr = RandomForestRegressor(random_state=42)\n",
    "GS=GridSearchCV(rfr,parameters,cv=3)\n",
    "GS.fit(Xtrain,ytrain)"
   ]
  },
  {
   "cell_type": "markdown",
   "metadata": {},
   "source": [
    "## 对max_depth跑学习曲线"
   ]
  },
  {
   "cell_type": "code",
   "execution_count": 89,
   "metadata": {},
   "outputs": [],
   "source": [
    "train_score_list=[]\n",
    "train_error_list=[]\n",
    "test_score_list=[]\n",
    "test_error_list=[]\n",
    "for i in range(9,29,1):\n",
    "    model = RandomForestRegressor(max_depth=i,random_state=42).fit(Xtrain,ytrain)\n",
    "    train_score = model.score(Xtrain,ytrain)\n",
    "    train_score_list.append(train_score)\n",
    "    test_score = model.score(Xtest,ytest)\n",
    "    test_score_list.append(test_score)\n",
    "    predict_ytrain=model.predict(Xtrain)\n",
    "    predict_ytest =model.predict(Xtest)\n",
    "    train_error=mean_squared_error(predict_ytrain,ytrain)\n",
    "    test_error = mean_squared_error(predict_ytest,ytest)\n",
    "    train_error_list.append(train_error)\n",
    "    test_error_list.append(test_error)\n"
   ]
  },
  {
   "cell_type": "code",
   "execution_count": 90,
   "metadata": {},
   "outputs": [
    {
     "name": "stdout",
     "output_type": "stream",
     "text": [
      "The min testSet error is 134926.22481688258 when max_depth = 9\n"
     ]
    },
    {
     "data": {
      "image/png": "[encoded data removed]",
      "text/plain": [
       "<Figure size 720x720 with 4 Axes>"
      ]
     },
     "metadata": {},
     "output_type": "display_data"
    }
   ],
   "source": [
    "import matplotlib.style as style\n",
    "style.use('ggplot')\n",
    "x=[i for i in range(9,29,1)]\n",
    "fig,ax=plt.subplots(2,2,figsize=(10,10))\n",
    "ax[0][0].plot(x,train_score_list,'o-',linewidth=1.8 ,color='blue')\n",
    "ax[0][0].set_xlabel(xlabel='n_estimators')\n",
    "ax[0][0].set_ylabel(ylabel='R square of trainSet')\n",
    "\n",
    "ax[0][1].plot(x,test_score_list,'o-',linewidth=1.8,color='blue')\n",
    "ax[0][1].set_xlabel(xlabel='n_estimators')\n",
    "ax[0][1].set_ylabel(ylabel='R square of testSet')\n",
    "\n",
    "ax[1][0].plot(x,train_error_list,'o-',linewidth=1.8,color='green')\n",
    "ax[1][0].set_xlabel(xlabel='n_estimators')\n",
    "ax[1][0].set_ylabel(ylabel='mse of trainSet')\n",
    "\n",
    "ax[1][1].plot(x,test_error_list,'o-',linewidth=1.8,color='green')\n",
    "ax[1][1].set_xlabel(xlabel='n_estimators')\n",
    "ax[1][1].set_ylabel(ylabel='mse of testSet')\n",
    "plt.subplots_adjust(\n",
    "#                     left=0.1\n",
    "#                     , bottom=0.1\n",
    "#                     ,right=0.2\n",
    "#                     ,top=None\n",
    "#                     ,\n",
    "    wspace=0.3\n",
    "                    ,hspace=0.2\n",
    "                   )\n",
    "print(f\"The min testSet error is {min(test_error_list)} when max_depth = {x[np.argmin(test_error_list)]}\")"
   ]
  },
  {
   "cell_type": "markdown",
   "metadata": {},
   "source": [
    "## 对max_features跑学习曲线"
   ]
  },
  {
   "cell_type": "code",
   "execution_count": 92,
   "metadata": {},
   "outputs": [],
   "source": [
    "train_score_list2=[]\n",
    "train_error_list2=[]\n",
    "test_score_list2=[]\n",
    "test_error_list2=[]\n",
    "for i in range(1,14,1):\n",
    "    model = RandomForestRegressor(max_depth=10,max_features=i,random_state=42).fit(Xtrain,ytrain)\n",
    "    train_score = model.score(Xtrain,ytrain)\n",
    "    train_score_list2.append(train_score)\n",
    "    test_score = model.score(Xtest,ytest)\n",
    "    test_score_list2.append(test_score)\n",
    "    predict_ytrain=model.predict(Xtrain)\n",
    "    predict_ytest =model.predict(Xtest)\n",
    "    train_error=mean_squared_error(predict_ytrain,ytrain)\n",
    "    test_error = mean_squared_error(predict_ytest,ytest)\n",
    "    train_error_list2.append(train_error)\n",
    "    test_error_list2.append(test_error)"
   ]
  },
  {
   "cell_type": "code",
   "execution_count": 93,
   "metadata": {},
   "outputs": [
    {
     "name": "stdout",
     "output_type": "stream",
     "text": [
      "The min testSet error is 126633.78754673702 when max_depth = 11\n"
     ]
    },
    {
     "data": {
      "image/png": "[encoded data removed]",
      "text/plain": [
       "<Figure size 720x720 with 4 Axes>"
      ]
     },
     "metadata": {},
     "output_type": "display_data"
    }
   ],
   "source": [
    "import matplotlib.style as style\n",
    "style.use('ggplot')\n",
    "x=[i for i in range(1,14,1)]\n",
    "fig,ax=plt.subplots(2,2,figsize=(10,10))\n",
    "ax[0][0].plot(x,train_score_list2,'o-',linewidth=1.8 ,color='blue')\n",
    "ax[0][0].set_xlabel(xlabel='n_estimators')\n",
    "ax[0][0].set_ylabel(ylabel='R square of trainSet')\n",
    "\n",
    "ax[0][1].plot(x,test_score_list2,'o-',linewidth=1.8,color='blue')\n",
    "ax[0][1].set_xlabel(xlabel='n_estimators')\n",
    "ax[0][1].set_ylabel(ylabel='R square of testSet')\n",
    "\n",
    "ax[1][0].plot(x,train_error_list2,'o-',linewidth=1.8,color='green')\n",
    "ax[1][0].set_xlabel(xlabel='n_estimators')\n",
    "ax[1][0].set_ylabel(ylabel='mse of trainSet')\n",
    "\n",
    "ax[1][1].plot(x,test_error_list2,'o-',linewidth=1.8,color='green')\n",
    "ax[1][1].set_xlabel(xlabel='n_estimators')\n",
    "ax[1][1].set_ylabel(ylabel='mse of testSet')\n",
    "plt.subplots_adjust(\n",
    "#                     left=0.1\n",
    "#                     , bottom=0.1\n",
    "#                     ,right=0.2\n",
    "#                     ,top=None\n",
    "#                     ,\n",
    "    wspace=0.3\n",
    "                    ,hspace=0.2\n",
    "                   )\n",
    "print(f\"The min testSet error is {min(test_error_list2)} when max_depth = {x[np.argmin(test_error_list2)]}\")"
   ]
  },
  {
   "cell_type": "markdown",
   "metadata": {},
   "source": [
    "## min_samples_leaf 学习曲线"
   ]
  },
  {
   "cell_type": "code",
   "execution_count": 95,
   "metadata": {},
   "outputs": [
    {
     "name": "stdout",
     "output_type": "stream",
     "text": [
      "The min testSet error is 131160.52319599446 when min_samples_leaf = 10\n"
     ]
    },
    {
     "data": {
      "image/png": "[encoded data removed]",
      "text/plain": [
       "<Figure size 720x720 with 4 Axes>"
      ]
     },
     "metadata": {},
     "output_type": "display_data"
    }
   ],
   "source": [
    "train_score_list3=[]\n",
    "train_error_list3=[]\n",
    "test_score_list3=[]\n",
    "test_error_list3=[]\n",
    "for i in range(6,20,1):\n",
    "    model = RandomForestRegressor(max_depth=10,min_samples_leaf=i,max_features=7,random_state=42).fit(Xtrain,ytrain)\n",
    "    train_score = model.score(Xtrain,ytrain)\n",
    "    train_score_list3.append(train_score)\n",
    "    test_score = model.score(Xtest,ytest)\n",
    "    test_score_list3.append(test_score)\n",
    "    predict_ytrain=model.predict(Xtrain)\n",
    "    predict_ytest =model.predict(Xtest)\n",
    "    train_error=mean_squared_error(predict_ytrain,ytrain)\n",
    "    test_error = mean_squared_error(predict_ytest,ytest)\n",
    "    train_error_list3.append(train_error)\n",
    "    test_error_list3.append(test_error)\n",
    "\n",
    "import matplotlib.style as style\n",
    "style.use('ggplot')\n",
    "x=[i for i in range(6,20,1)]\n",
    "fig,ax=plt.subplots(2,2,figsize=(10,10))\n",
    "ax[0][0].plot(x,train_score_list3,'o-',linewidth=1.8 ,color='blue')\n",
    "ax[0][0].set_xlabel(xlabel='n_estimators')\n",
    "ax[0][0].set_ylabel(ylabel='R square of trainSet')\n",
    "\n",
    "ax[0][1].plot(x,test_score_list3,'o-',linewidth=1.8,color='blue')\n",
    "ax[0][1].set_xlabel(xlabel='n_estimators')\n",
    "ax[0][1].set_ylabel(ylabel='R square of testSet')\n",
    "\n",
    "ax[1][0].plot(x,train_error_list3,'o-',linewidth=1.8,color='green')\n",
    "ax[1][0].set_xlabel(xlabel='n_estimators')\n",
    "ax[1][0].set_ylabel(ylabel='mse of trainSet')\n",
    "\n",
    "ax[1][1].plot(x,test_error_list3,'o-',linewidth=1.8,color='green')\n",
    "ax[1][1].set_xlabel(xlabel='n_estimators')\n",
    "ax[1][1].set_ylabel(ylabel='mse of testSet')\n",
    "plt.subplots_adjust(\n",
    "#                     left=0.1\n",
    "#                     , bottom=0.1\n",
    "#                     ,right=0.2\n",
    "#                     ,top=None\n",
    "#                     ,\n",
    "    wspace=0.3\n",
    "                    ,hspace=0.2\n",
    "                   )\n",
    "print(f\"The min testSet error is {min(test_error_list3)} when min_samples_leaf = {x[np.argmin(test_error_list3)]}\")"
   ]
  },
  {
   "cell_type": "markdown",
   "metadata": {},
   "source": [
    "至此，我们将max_depht, max_features,min_samples_leaf 的最佳取值都锁定了。\n",
    "检验一下此时模型的效果："
   ]
  },
  {
   "cell_type": "code",
   "execution_count": 96,
   "metadata": {},
   "outputs": [
    {
     "name": "stdout",
     "output_type": "stream",
     "text": [
      "train Score is 0.1673692144126212\n",
      "test Score is 0.10996244490132245\n",
      "train mse is 103838.62979531783\n",
      "train mse is 134778.09772283054\n"
     ]
    }
   ],
   "source": [
    "model = RandomForestRegressor(max_depth=10,max_features=7,min_samples_leaf=18,random_state=42).fit(Xtrain,ytrain)\n",
    "print(f'train Score is {model.score(Xtrain,ytrain)}')\n",
    "print(f'test Score is {model.score(Xtest,ytest)}')\n",
    "print(f'train mse is {mean_squared_error(model.predict(Xtrain),ytrain)}')\n",
    "print(f'train mse is {mean_squared_error(model.predict(Xtest),ytest)}')"
   ]
  },
  {
   "cell_type": "markdown",
   "metadata": {},
   "source": [
    "## 对n_estimator进行调参 "
   ]
  },
  {
   "cell_type": "code",
   "execution_count": 97,
   "metadata": {},
   "outputs": [
    {
     "name": "stdout",
     "output_type": "stream",
     "text": [
      "The min testSet error is 134174.21357769772 when min_samples_leaf = 40\n"
     ]
    },
    {
     "data": {
      "image/png": "[encoded data removed]",
      "text/plain": [
       "<Figure size 720x720 with 4 Axes>"
      ]
     },
     "metadata": {},
     "output_type": "display_data"
    }
   ],
   "source": [
    "n_estimators=[i for i in range(30,60,1)]\n",
    "train_score_list5=[]\n",
    "test_score_list5=[]\n",
    "train_error_list5=[]\n",
    "test_error_list5=[]\n",
    "\n",
    "for i in n_estimators:\n",
    "    rfr = RandomForestRegressor(random_state=42,n_estimators=i,max_depth=10,max_features=7,min_samples_leaf=18)\n",
    "    rfr = rfr.fit(Xtrain,ytrain)\n",
    "    train_score_list5.append(rfr.score(Xtrain,ytrain))\n",
    "    test_score_list5.append(rfr.score(Xtest,ytest))\n",
    "    predict_ytrain = rfr.predict(Xtrain)\n",
    "    predict_ytest = rfr.predict(Xtest)\n",
    "    mse_train=mean_squared_error(predict_ytrain,ytrain)\n",
    "    mse_test=mean_squared_error(predict_ytest,ytest)\n",
    "    train_error_list5.append(mse_train)\n",
    "    test_error_list5.append(mse_test)\n",
    "\n",
    "#可视化\n",
    "import matplotlib.style as style\n",
    "style.use('ggplot')\n",
    "x=[i for i in range(30,60,1)]\n",
    "fig,ax=plt.subplots(2,2,figsize=(10,10))\n",
    "ax[0][0].plot(x,train_score_list5,'o-',linewidth=1.8 ,color='blue')\n",
    "ax[0][0].set_xlabel(xlabel='n_estimators')\n",
    "ax[0][0].set_ylabel(ylabel='R square of trainSet')\n",
    "\n",
    "ax[0][1].plot(x,test_score_list5,'o-',linewidth=1.8,color='blue')\n",
    "ax[0][1].set_xlabel(xlabel='n_estimators')\n",
    "ax[0][1].set_ylabel(ylabel='R square of testSet')\n",
    "\n",
    "ax[1][0].plot(x,train_error_list5,'o-',linewidth=1.8,color='green')\n",
    "ax[1][0].set_xlabel(xlabel='n_estimators')\n",
    "ax[1][0].set_ylabel(ylabel='mse of trainSet')\n",
    "\n",
    "ax[1][1].plot(x,test_error_list5,'o-',linewidth=1.8,color='green')\n",
    "ax[1][1].set_xlabel(xlabel='n_estimators')\n",
    "ax[1][1].set_ylabel(ylabel='mse of testSet')\n",
    "plt.subplots_adjust(\n",
    "#                     left=0.1\n",
    "#                     , bottom=0.1\n",
    "#                     ,right=0.2\n",
    "#                     ,top=None\n",
    "#                     ,\n",
    "    wspace=0.3\n",
    "                    ,hspace=0.2\n",
    "                   )\n",
    "print(f\"The min testSet error is {min(test_error_list5)} when min_samples_leaf = {x[np.argmin(test_error_list5)]}\")"
   ]
  },
  {
   "cell_type": "markdown",
   "metadata": {},
   "source": [
    "## 最终模型"
   ]
  },
  {
   "cell_type": "code",
   "execution_count": 98,
   "metadata": {},
   "outputs": [
    {
     "name": "stdout",
     "output_type": "stream",
     "text": [
      "train Score is 0.17569521623295292\n",
      "test Score is 0.11198228684019507\n",
      "train mse is 102800.28166351453\n",
      "train mse is 134472.23371443836\n"
     ]
    }
   ],
   "source": [
    "model_best = RandomForestRegressor(max_depth=10,max_features=7,min_samples_leaf=18,random_state=42,n_estimators=46).fit(Xtrain,ytrain)\n",
    "print(f'train Score is {model_best.score(Xtrain,ytrain)}')\n",
    "print(f'test Score is {model_best.score(Xtest,ytest)}')\n",
    "print(f'train mse is {mean_squared_error(model_best.predict(Xtrain),ytrain)}')\n",
    "print(f'train mse is {mean_squared_error(model_best.predict(Xtest),ytest)}')"
   ]
  },
  {
   "cell_type": "markdown",
   "metadata": {},
   "source": [
    "## 评估"
   ]
  },
  {
   "cell_type": "code",
   "execution_count": 101,
   "metadata": {},
   "outputs": [
    {
     "name": "stdout",
     "output_type": "stream",
     "text": [
      "Prediction with residual less than 1:0.5%\n"
     ]
    },
    {
     "data": {
      "image/png": "[encoded data removed]",
      "text/plain": [
       "<Figure size 1152x576 with 1 Axes>"
      ]
     },
     "metadata": {},
     "output_type": "display_data"
    }
   ],
   "source": [
    "predict_ytest = model_best.predict(Xtest)\n",
    "predict_error = np.abs(predict_ytest-ytest)\n",
    "percent=(\"%.3f\"%(predict_error[predict_error<1].shape[0]/predict_error.shape[0]))\n",
    "fig,ax=plt.subplots(figsize=(16,8))\n",
    "import seaborn as sns\n",
    "sns.distplot(predict_ytest,ax=ax,color='blue',bins=40)\n",
    "print(f\"Prediction with residual less than 1:{float(percent)*100}%\")"
   ]
  },
  {
   "cell_type": "markdown",
   "metadata": {},
   "source": [
    "## 影响房价的主要因素："
   ]
  },
  {
   "cell_type": "code",
   "execution_count": 102,
   "metadata": {},
   "outputs": [
    {
     "data": {
      "text/plain": [
       "longitude                         0.154353\n",
       "calculated_host_listings_count    0.124669\n",
       "room_type_Entire home/apt         0.117460\n",
       "room_type_Private room            0.089497\n",
       "number_of_reviews                 0.068554\n",
       "                                    ...   \n",
       "neighbourhood_La Jolla Village    0.000000\n",
       "neighbourhood_Lake Murray         0.000000\n",
       "neighbourhood_Lincoln Park        0.000000\n",
       "neighbourhood_Thomy Locust Pl     0.000000\n",
       "neighbourhood_Lynwood Hills       0.000000\n",
       "Length: 117, dtype: float64"
      ]
     },
     "execution_count": 102,
     "metadata": {},
     "output_type": "execute_result"
    }
   ],
   "source": [
    "importance = model_best.feature_importances_\n",
    "columns = Xtrain.columns\n",
    "s = pd.Series(data=importance,index=columns)\n",
    "s.sort_values(ascending=False)"
   ]
  },
  {
   "cell_type": "code",
   "execution_count": 60,
   "metadata": {},
   "outputs": [
    {
     "data": {
      "text/html": [
       "<div>\n",
       "<style scoped>\n",
       "    .dataframe tbody tr th:only-of-type {\n",
       "        vertical-align: middle;\n",
       "    }\n",
       "\n",
       "    .dataframe tbody tr th {\n",
       "        vertical-align: top;\n",
       "    }\n",
       "\n",
       "    .dataframe thead th {\n",
       "        text-align: right;\n",
       "    }\n",
       "</style>\n",
       "<table border=\"1\" class=\"dataframe\">\n",
       "  <thead>\n",
       "    <tr style=\"text-align: right;\">\n",
       "      <th></th>\n",
       "      <th>id</th>\n",
       "      <th>host_id</th>\n",
       "      <th>latitude</th>\n",
       "      <th>longitude</th>\n",
       "      <th>minimum_nights</th>\n",
       "      <th>number_of_reviews</th>\n",
       "      <th>last_review</th>\n",
       "      <th>reviews_per_month</th>\n",
       "      <th>calculated_host_listings_count</th>\n",
       "      <th>availability_365</th>\n",
       "      <th>...</th>\n",
       "      <th>neighbourhood_Valencia Park</th>\n",
       "      <th>neighbourhood_Webster</th>\n",
       "      <th>neighbourhood_West University Heights</th>\n",
       "      <th>neighbourhood_Wooded Area</th>\n",
       "      <th>neighbourhood_Yosemite Dr</th>\n",
       "      <th>room_type_Entire home/apt</th>\n",
       "      <th>room_type_Hotel room</th>\n",
       "      <th>room_type_Private room</th>\n",
       "      <th>room_type_Shared room</th>\n",
       "      <th>price</th>\n",
       "    </tr>\n",
       "  </thead>\n",
       "  <tbody>\n",
       "    <tr>\n",
       "      <th>0</th>\n",
       "      <td>6</td>\n",
       "      <td>29</td>\n",
       "      <td>32.75399</td>\n",
       "      <td>-117.12971</td>\n",
       "      <td>1</td>\n",
       "      <td>152</td>\n",
       "      <td>2019-02-11</td>\n",
       "      <td>1.11</td>\n",
       "      <td>1</td>\n",
       "      <td>6</td>\n",
       "      <td>...</td>\n",
       "      <td>0</td>\n",
       "      <td>0</td>\n",
       "      <td>0</td>\n",
       "      <td>0</td>\n",
       "      <td>0</td>\n",
       "      <td>1</td>\n",
       "      <td>0</td>\n",
       "      <td>0</td>\n",
       "      <td>0</td>\n",
       "      <td>295</td>\n",
       "    </tr>\n",
       "    <tr>\n",
       "      <th>1</th>\n",
       "      <td>5570</td>\n",
       "      <td>8435</td>\n",
       "      <td>32.78430</td>\n",
       "      <td>-117.25258</td>\n",
       "      <td>3</td>\n",
       "      <td>0</td>\n",
       "      <td>2012-08-14</td>\n",
       "      <td>0.00</td>\n",
       "      <td>2</td>\n",
       "      <td>202</td>\n",
       "      <td>...</td>\n",
       "      <td>0</td>\n",
       "      <td>0</td>\n",
       "      <td>0</td>\n",
       "      <td>0</td>\n",
       "      <td>0</td>\n",
       "      <td>1</td>\n",
       "      <td>0</td>\n",
       "      <td>0</td>\n",
       "      <td>0</td>\n",
       "      <td>2050</td>\n",
       "    </tr>\n",
       "    <tr>\n",
       "      <th>2</th>\n",
       "      <td>38245</td>\n",
       "      <td>164137</td>\n",
       "      <td>32.74202</td>\n",
       "      <td>-117.21870</td>\n",
       "      <td>1</td>\n",
       "      <td>142</td>\n",
       "      <td>2019-09-02</td>\n",
       "      <td>1.29</td>\n",
       "      <td>3</td>\n",
       "      <td>347</td>\n",
       "      <td>...</td>\n",
       "      <td>0</td>\n",
       "      <td>0</td>\n",
       "      <td>0</td>\n",
       "      <td>0</td>\n",
       "      <td>0</td>\n",
       "      <td>0</td>\n",
       "      <td>0</td>\n",
       "      <td>1</td>\n",
       "      <td>0</td>\n",
       "      <td>75</td>\n",
       "    </tr>\n",
       "    <tr>\n",
       "      <th>3</th>\n",
       "      <td>39516</td>\n",
       "      <td>169649</td>\n",
       "      <td>32.73188</td>\n",
       "      <td>-117.11918</td>\n",
       "      <td>3</td>\n",
       "      <td>381</td>\n",
       "      <td>2019-09-10</td>\n",
       "      <td>3.41</td>\n",
       "      <td>1</td>\n",
       "      <td>296</td>\n",
       "      <td>...</td>\n",
       "      <td>0</td>\n",
       "      <td>0</td>\n",
       "      <td>0</td>\n",
       "      <td>0</td>\n",
       "      <td>0</td>\n",
       "      <td>1</td>\n",
       "      <td>0</td>\n",
       "      <td>0</td>\n",
       "      <td>0</td>\n",
       "      <td>74</td>\n",
       "    </tr>\n",
       "    <tr>\n",
       "      <th>4</th>\n",
       "      <td>52286</td>\n",
       "      <td>215810</td>\n",
       "      <td>32.77784</td>\n",
       "      <td>-117.25355</td>\n",
       "      <td>7</td>\n",
       "      <td>0</td>\n",
       "      <td>2012-08-14</td>\n",
       "      <td>0.00</td>\n",
       "      <td>1</td>\n",
       "      <td>89</td>\n",
       "      <td>...</td>\n",
       "      <td>0</td>\n",
       "      <td>0</td>\n",
       "      <td>0</td>\n",
       "      <td>0</td>\n",
       "      <td>0</td>\n",
       "      <td>1</td>\n",
       "      <td>0</td>\n",
       "      <td>0</td>\n",
       "      <td>0</td>\n",
       "      <td>550</td>\n",
       "    </tr>\n",
       "    <tr>\n",
       "      <th>5</th>\n",
       "      <td>54001</td>\n",
       "      <td>252692</td>\n",
       "      <td>32.81190</td>\n",
       "      <td>-117.26952</td>\n",
       "      <td>2</td>\n",
       "      <td>203</td>\n",
       "      <td>2019-09-02</td>\n",
       "      <td>1.91</td>\n",
       "      <td>5</td>\n",
       "      <td>329</td>\n",
       "      <td>...</td>\n",
       "      <td>0</td>\n",
       "      <td>0</td>\n",
       "      <td>0</td>\n",
       "      <td>0</td>\n",
       "      <td>0</td>\n",
       "      <td>0</td>\n",
       "      <td>0</td>\n",
       "      <td>1</td>\n",
       "      <td>0</td>\n",
       "      <td>110</td>\n",
       "    </tr>\n",
       "  </tbody>\n",
       "</table>\n",
       "<p>6 rows × 118 columns</p>\n",
       "</div>"
      ],
      "text/plain": [
       "      id  host_id  latitude  longitude  minimum_nights  number_of_reviews  \\\n",
       "0      6       29  32.75399 -117.12971               1                152   \n",
       "1   5570     8435  32.78430 -117.25258               3                  0   \n",
       "2  38245   164137  32.74202 -117.21870               1                142   \n",
       "3  39516   169649  32.73188 -117.11918               3                381   \n",
       "4  52286   215810  32.77784 -117.25355               7                  0   \n",
       "5  54001   252692  32.81190 -117.26952               2                203   \n",
       "\n",
       "  last_review  reviews_per_month  calculated_host_listings_count  \\\n",
       "0  2019-02-11               1.11                               1   \n",
       "1  2012-08-14               0.00                               2   \n",
       "2  2019-09-02               1.29                               3   \n",
       "3  2019-09-10               3.41                               1   \n",
       "4  2012-08-14               0.00                               1   \n",
       "5  2019-09-02               1.91                               5   \n",
       "\n",
       "   availability_365  ...  neighbourhood_Valencia Park  neighbourhood_Webster  \\\n",
       "0                 6  ...                            0                      0   \n",
       "1               202  ...                            0                      0   \n",
       "2               347  ...                            0                      0   \n",
       "3               296  ...                            0                      0   \n",
       "4                89  ...                            0                      0   \n",
       "5               329  ...                            0                      0   \n",
       "\n",
       "   neighbourhood_West University Heights  neighbourhood_Wooded Area  \\\n",
       "0                                      0                          0   \n",
       "1                                      0                          0   \n",
       "2                                      0                          0   \n",
       "3                                      0                          0   \n",
       "4                                      0                          0   \n",
       "5                                      0                          0   \n",
       "\n",
       "   neighbourhood_Yosemite Dr  room_type_Entire home/apt  room_type_Hotel room  \\\n",
       "0                          0                          1                     0   \n",
       "1                          0                          1                     0   \n",
       "2                          0                          0                     0   \n",
       "3                          0                          1                     0   \n",
       "4                          0                          1                     0   \n",
       "5                          0                          0                     0   \n",
       "\n",
       "   room_type_Private room  room_type_Shared room  price  \n",
       "0                       0                      0    295  \n",
       "1                       0                      0   2050  \n",
       "2                       1                      0     75  \n",
       "3                       0                      0     74  \n",
       "4                       0                      0    550  \n",
       "5                       1                      0    110  \n",
       "\n",
       "[6 rows x 118 columns]"
      ]
     },
     "execution_count": 60,
     "metadata": {},
     "output_type": "execute_result"
    }
   ],
   "source": [
    "new_data.head(6)"
   ]
  }
 ],
 "metadata": {
  "kernelspec": {
   "display_name": "Python 3",
   "language": "python",
   "name": "python3"
  },
  "language_info": {
   "codemirror_mode": {
    "name": "ipython",
    "version": 3
   },
   "file_extension": ".py",
   "mimetype": "text/x-python",
   "name": "python",
   "nbconvert_exporter": "python",
   "pygments_lexer": "ipython3",
   "version": "3.6.4"
  }
 },
 "nbformat": 4,
 "nbformat_minor": 2
}
